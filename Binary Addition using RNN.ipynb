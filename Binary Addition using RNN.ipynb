{
 "cells": [
  {
   "cell_type": "code",
   "execution_count": 3,
   "metadata": {},
   "outputs": [
    {
     "name": "stdout",
     "output_type": "stream",
     "text": [
      "Ground Truth :  [101]  +  [52]  =  [153]\n",
      "Predictions  :  [255]\n",
      "-----------------------------------------\n",
      "Ground Truth :  [73]  +  [97]  =  [170]\n",
      "Predictions  :  [130]\n",
      "-----------------------------------------\n",
      "Ground Truth :  [19]  +  [61]  =  [80]\n",
      "Predictions  :  [47]\n",
      "-----------------------------------------\n",
      "Ground Truth :  [74]  +  [38]  =  [112]\n",
      "Predictions  :  [4]\n",
      "-----------------------------------------\n",
      "Ground Truth :  [107]  +  [45]  =  [152]\n",
      "Predictions  :  [222]\n",
      "-----------------------------------------\n",
      "Ground Truth :  [114]  +  [0]  =  [114]\n",
      "Predictions  :  [114]\n",
      "-----------------------------------------\n",
      "Ground Truth :  [61]  +  [47]  =  [108]\n",
      "Predictions  :  [108]\n",
      "-----------------------------------------\n",
      "Ground Truth :  [23]  +  [42]  =  [65]\n",
      "Predictions  :  [65]\n",
      "-----------------------------------------\n",
      "Ground Truth :  [38]  +  [103]  =  [141]\n",
      "Predictions  :  [141]\n",
      "-----------------------------------------\n",
      "Ground Truth :  [61]  +  [74]  =  [135]\n",
      "Predictions  :  [135]\n",
      "-----------------------------------------\n",
      "Ground Truth :  [91]  +  [69]  =  [160]\n",
      "Predictions  :  [160]\n",
      "-----------------------------------------\n",
      "Ground Truth :  [112]  +  [60]  =  [172]\n",
      "Predictions  :  [172]\n",
      "-----------------------------------------\n",
      "Ground Truth :  [75]  +  [94]  =  [169]\n",
      "Predictions  :  [169]\n",
      "-----------------------------------------\n",
      "Ground Truth :  [122]  +  [39]  =  [161]\n",
      "Predictions  :  [161]\n",
      "-----------------------------------------\n",
      "Ground Truth :  [99]  +  [75]  =  [174]\n",
      "Predictions  :  [174]\n",
      "-----------------------------------------\n",
      "Ground Truth :  [48]  +  [27]  =  [75]\n",
      "Predictions  :  [75]\n",
      "-----------------------------------------\n",
      "Ground Truth :  [99]  +  [122]  =  [221]\n",
      "Predictions  :  [221]\n",
      "-----------------------------------------\n",
      "Ground Truth :  [122]  +  [118]  =  [240]\n",
      "Predictions  :  [240]\n",
      "-----------------------------------------\n",
      "Ground Truth :  [1]  +  [104]  =  [105]\n",
      "Predictions  :  [105]\n",
      "-----------------------------------------\n",
      "Ground Truth :  [97]  +  [68]  =  [165]\n",
      "Predictions  :  [165]\n",
      "-----------------------------------------\n"
     ]
    },
    {
     "data": {
      "text/plain": [
       "<matplotlib.legend.Legend at 0x1bc95bd45b0>"
      ]
     },
     "execution_count": 3,
     "metadata": {},
     "output_type": "execute_result"
    },
    {
     "data": {
      "image/png": "[encoded data removed]",
      "text/plain": [
       "<Figure size 432x288 with 1 Axes>"
      ]
     },
     "metadata": {
      "needs_background": "light"
     },
     "output_type": "display_data"
    },
    {
     "data": {
      "image/png": "[encoded data removed]",
      "text/plain": [
       "<Figure size 432x288 with 1 Axes>"
      ]
     },
     "metadata": {
      "needs_background": "light"
     },
     "output_type": "display_data"
    }
   ],
   "source": [
    "import numpy as np\n",
    "import matplotlib.pyplot as plt\n",
    "from tqdm import tqdm\n",
    "from scipy.special import expit\n",
    "\n",
    "def sigmoid(z):\n",
    "\treturn 1 / (1 + np.exp(-z))\n",
    "\n",
    "def sigmoid_derivative(z):\n",
    "\treturn z * (1 - z)\n",
    "\n",
    "def tanh(z):\n",
    "\treturn np.tanh(z)\n",
    "\n",
    "def tanh_derivative(z):\n",
    "\treturn 1 - np.square(z)\n",
    "\n",
    "values_map = dict()\n",
    "binary_dim = 8\n",
    "values = np.arange(0, 2**8, 1, dtype=np.uint8).reshape((-1, 1))\n",
    "values = np.unpackbits(values, axis=1)\n",
    "\n",
    "for i in range(2**binary_dim):\n",
    "\tvalues_map[i] = values[i, :]\n",
    "\n",
    "wa = 2*np.random.random((20, 20))-1\n",
    "wx = 2*np.random.random((20, 2))-1\n",
    "wy = 2*np.random.random((1, 20))-1\n",
    "\n",
    "d_wa = np.zeros_like(wa)\n",
    "d_wx = np.zeros_like(wx)\n",
    "d_wy = np.zeros_like(wy)\n",
    "\n",
    "hidden = dict()\n",
    "output = np.zeros((1, binary_dim))\n",
    "error = np.zeros_like(output)\n",
    "hidden[8] = np.zeros((20, 1))\n",
    "daprev = np.zeros_like(hidden[8])\n",
    "hd = np.zeros_like(hidden[8])\n",
    "loss, accuracy = [], []\n",
    "\n",
    "epochs = 20000\n",
    "lr = 0.1\n",
    "\n",
    "for _ in range(1, epochs+1):\n",
    "\n",
    "\ta = np.random.randint(0, 2**binary_dim/2)\n",
    "\tb = np.random.randint(0, 2**binary_dim/2)\n",
    "\tc = a + b\n",
    "\ta = values_map[a]\n",
    "\tb = values_map[b]\n",
    "\tc = values_map[c]\n",
    "\terr = 0\n",
    "\tacc = 0\n",
    "\n",
    "\tfor t in range(binary_dim)[::-1]:\n",
    "\n",
    "\t\tx = np.array([[a[t]], [b[t]]])\n",
    "\t\thidden[t] = sigmoid(np.matmul(wa, hidden[t+1]) + np.matmul(wx, x))\n",
    "\t\toutput[0, t] = sigmoid(np.matmul(wy, hidden[t]))\n",
    "\t\terror[0, t] = (c[t].astype(int) - output[0, t])*(sigmoid_derivative(output[0, t]))*(-1)\n",
    "\t\terr += np.squeeze(error[0, t])\n",
    "\t\tif c[t]==np.squeeze(np.round(output[0, t])):\n",
    "\t\t\tacc += 1\n",
    "\n",
    "\tloss.append((err**2/2)/binary_dim)\n",
    "\taccuracy.append((acc/binary_dim)*100)\n",
    "\n",
    "\tif not _%1000:\n",
    "\t\tprint(\"Ground Truth : \", np.packbits(a), \" + \", np.packbits(b), \" = \", np.packbits(c))\n",
    "\t\tprint(\"Predictions  : \", np.packbits(np.round(output).astype(int)))\n",
    "\t\tprint(\"-----------------------------------------\")\n",
    "\n",
    "\t\n",
    "\tfor t in range(binary_dim):\n",
    "\n",
    "\t\tx = np.array([[a[t]], [b[t]]])\n",
    "\t\tyhat = np.array([[error[0, t]]])\n",
    "\t\tda = (daprev + np.matmul(wy.T, yhat))*sigmoid_derivative(hidden[t])\n",
    "\t\td_wy += np.matmul(yhat, hidden[t].T)\n",
    "\t\td_wx += np.matmul(da, x.T)\n",
    "\t\td_wa += np.matmul(da, hidden[t+1].T)\n",
    "\t\tdaprev = np.matmul(wa.T, da)\n",
    "\n",
    "\twa -= d_wa * lr\n",
    "\twx -= d_wx * lr\n",
    "\twy -= d_wy * lr\n",
    "\t\n",
    "\td_wa *= 0 \n",
    "\td_wx *= 0\n",
    "\td_wy *= 0\n",
    "\t\n",
    "plt.figure(1)\n",
    "plt.plot(loss, label=\"Loss\", color='red', alpha=0.5)\n",
    "plt.legend()\n",
    "plt.figure(2)\n",
    "plt.plot(accuracy, label=\"Accuracy\", color='green', alpha=0.5)\n",
    "plt.legend()"
   ]
  },
  {
   "cell_type": "code",
   "execution_count": null,
   "metadata": {},
   "outputs": [],
   "source": []
  }
 ],
 "metadata": {
  "kernelspec": {
   "display_name": "Python 3",
   "language": "python",
   "name": "python3"
  },
  "language_info": {
   "codemirror_mode": {
    "name": "ipython",
    "version": 3
   },
   "file_extension": ".py",
   "mimetype": "text/x-python",
   "name": "python",
   "nbconvert_exporter": "python",
   "pygments_lexer": "ipython3",
   "version": "3.8.0"
  }
 },
 "nbformat": 4,
 "nbformat_minor": 4
}
